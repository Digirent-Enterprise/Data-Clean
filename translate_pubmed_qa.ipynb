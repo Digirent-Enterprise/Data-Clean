{
 "cells": [
  {
   "attachments": {},
   "cell_type": "markdown",
   "metadata": {},
   "source": [
    "# Load dataset"
   ]
  },
  {
   "cell_type": "code",
   "execution_count": 2,
   "metadata": {},
   "outputs": [
    {
     "name": "stderr",
     "output_type": "stream",
     "text": [
      "/Users/giangnguyen/RMIT/capstone/Data-Clean/venv/lib/python3.10/site-packages/tqdm/auto.py:21: TqdmWarning: IProgress not found. Please update jupyter and ipywidgets. See https://ipywidgets.readthedocs.io/en/stable/user_install.html\n",
      "  from .autonotebook import tqdm as notebook_tqdm\n",
      "Found cached dataset pubmed_qa (/Users/giangnguyen/.cache/huggingface/datasets/pubmed_qa/pqa_labeled/1.0.0/dd4c39f031a958c7e782595fa4dd1b1330484e8bbadd4d9212e5046f27e68924)\n"
     ]
    },
    {
     "name": "stdout",
     "output_type": "stream",
     "text": [
      "Dataset({\n",
      "    features: ['pubid', 'question', 'context', 'long_answer', 'final_decision'],\n",
      "    num_rows: 1000\n",
      "})\n"
     ]
    }
   ],
   "source": [
    "from datasets import list_datasets, load_dataset\n",
    "dataset = load_dataset(\"pubmed_qa\", \"pqa_labeled\",split=\"train\")\n",
    "print(dataset)"
   ]
  },
  {
   "cell_type": "code",
   "execution_count": 3,
   "metadata": {},
   "outputs": [
    {
     "data": {
      "text/plain": [
       "{'pubid': 21645374,\n",
       " 'question': 'Do mitochondria play a role in remodelling lace plant leaves during programmed cell death?',\n",
       " 'context': {'contexts': ['Programmed cell death (PCD) is the regulated death of cells within an organism. The lace plant (Aponogeton madagascariensis) produces perforations in its leaves through PCD. The leaves of the plant consist of a latticework of longitudinal and transverse veins enclosing areoles. PCD occurs in the cells at the center of these areoles and progresses outwards, stopping approximately five cells from the vasculature. The role of mitochondria during PCD has been recognized in animals; however, it has been less studied during PCD in plants.',\n",
       "   'The following paper elucidates the role of mitochondrial dynamics during developmentally regulated PCD in vivo in A. madagascariensis. A single areole within a window stage leaf (PCD is occurring) was divided into three areas based on the progression of PCD; cells that will not undergo PCD (NPCD), cells in early stages of PCD (EPCD), and cells in late stages of PCD (LPCD). Window stage leaves were stained with the mitochondrial dye MitoTracker Red CMXRos and examined. Mitochondrial dynamics were delineated into four categories (M1-M4) based on characteristics including distribution, motility, and membrane potential (ΔΨm). A TUNEL assay showed fragmented nDNA in a gradient over these mitochondrial stages. Chloroplasts and transvacuolar strands were also examined using live cell imaging. The possible importance of mitochondrial permeability transition pore (PTP) formation during PCD was indirectly examined via in vivo cyclosporine A (CsA) treatment. This treatment resulted in lace plant leaves with a significantly lower number of perforations compared to controls, and that displayed mitochondrial dynamics similar to that of non-PCD cells.'],\n",
       "  'labels': ['BACKGROUND', 'RESULTS'],\n",
       "  'meshes': ['Alismataceae',\n",
       "   'Apoptosis',\n",
       "   'Cell Differentiation',\n",
       "   'Mitochondria',\n",
       "   'Plant Leaves'],\n",
       "  'reasoning_required_pred': ['y', 'e', 's'],\n",
       "  'reasoning_free_pred': ['y', 'e', 's']},\n",
       " 'long_answer': 'Results depicted mitochondrial dynamics in vivo as PCD progresses within the lace plant, and highlight the correlation of this organelle with other organelles during developmental PCD. To the best of our knowledge, this is the first report of mitochondria and chloroplasts moving on transvacuolar strands to form a ring structure surrounding the nucleus during developmental PCD. Also, for the first time, we have shown the feasibility for the use of CsA in a whole plant system. Overall, our findings implicate the mitochondria as playing a critical and early role in developmentally regulated PCD in the lace plant.',\n",
       " 'final_decision': 'yes'}"
      ]
     },
     "execution_count": 3,
     "metadata": {},
     "output_type": "execute_result"
    }
   ],
   "source": [
    "dataset[0]"
   ]
  },
  {
   "attachments": {},
   "cell_type": "markdown",
   "metadata": {},
   "source": [
    "## Use third-party libs for translation & openai setup"
   ]
  },
  {
   "cell_type": "code",
   "execution_count": 4,
   "metadata": {},
   "outputs": [
    {
     "name": "stderr",
     "output_type": "stream",
     "text": [
      "Using region Ho Chi Minh server backend.\n",
      "\n"
     ]
    }
   ],
   "source": [
    "import os\n",
    "from dotenv import load_dotenv\n",
    "import translators as ts\n",
    "import openai\n",
    "load_dotenv()\n",
    "\n",
    "openai.api_key = os.getenv(\"OPENAI_API_KEY\")"
   ]
  },
  {
   "cell_type": "code",
   "execution_count": 5,
   "metadata": {},
   "outputs": [],
   "source": [
    "def build_prompt(text, context):\n",
    "    translated_text= ts.translate_text(text, from_language='en', to_language='vi')\n",
    "    print(translated_text)\n",
    "    translated_context =ts.translate_text(text, from_language='en', to_language='vi')\n",
    "    return [\n",
    "        {\"role\": \"system\", \"content\": \"\"\"\n",
    "         User will provide you a context, an a text that you will translate and a Literary translation with no context.\n",
    "         You will do the following step:\n",
    "         Step 1: Read the context\n",
    "         Step 2: Use the sample Literary translation and the context for reference.\n",
    "         Step 3: Translate the input text using the context and sample translation with no context\n",
    "         Step 4: Return out after being translated only.\n",
    "         \"\"\"},\n",
    "        {\"role\": \"user\", \"content\": f\"\"\"\n",
    "Context: {context}\n",
    "Literary translation: {translated_text}\n",
    "Input: {text}\n",
    "Output: \"\"\"}]\n",
    "\n",
    "\n",
    "def translate(messages):\n",
    "    try:\n",
    "        chat_completion = openai.ChatCompletion.create(model=\"gpt-3.5-turbo\",\n",
    "                                                   messages=messages)\n",
    "        print(f'{chat_completion[\"usage\"][\"prompt_tokens\"]} prompt tokens used.')\n",
    "        return chat_completion.choices[0][\"message\"].content\n",
    "    except Exception as error:\n",
    "        print(\"Error: \"+str(error))\n",
    "    "
   ]
  },
  {
   "attachments": {},
   "cell_type": "markdown",
   "metadata": {},
   "source": [
    "## Sample translation"
   ]
  },
  {
   "cell_type": "code",
   "execution_count": 6,
   "metadata": {},
   "outputs": [],
   "source": [
    "# messages = build_prompt(dataset[0][\"long_answer\"], dataset[0][\"context\"][\"contexts\"][0])\n",
    "# output = translate(messages)\n",
    "# output"
   ]
  },
  {
   "attachments": {},
   "cell_type": "markdown",
   "metadata": {},
   "source": [
    "## Multi-thread translation"
   ]
  },
  {
   "attachments": {},
   "cell_type": "markdown",
   "metadata": {},
   "source": [
    "Note: 1 single request seems to work but spamming the server (this libs uses Bing translate) return `too many requests error`"
   ]
  },
  {
   "cell_type": "code",
   "execution_count": 14,
   "metadata": {},
   "outputs": [
    {
     "name": "stdout",
     "output_type": "stream",
     "text": [
      "successsss 🎊\n",
      "successsss 🎊\n",
      "successsss 🎊\n",
      "successsss 🎊\n",
      "successsss 🎊\n",
      "successsss 🎊\n",
      "successsss 🎊\n",
      "successsss 🎊\n",
      "successsss 🎊\n",
      "successsss 🎊\n",
      "successsss 🎊\n",
      "successsss 🎊\n",
      "successsss 🎊\n",
      "successsss 🎊\n",
      "successsss 🎊\n",
      "successsss 🎊\n",
      "successsss 🎊\n",
      "successsss 🎊\n",
      "successsss 🎊\n",
      "successsss 🎊\n",
      "successsss 🎊\n",
      "successsss 🎊\n",
      "successsss 🎊\n",
      "successsss 🎊\n"
     ]
    }
   ],
   "source": [
    "from concurrent.futures import ThreadPoolExecutor\n",
    "import pandas as pd\n",
    "from datetime import datetime\n",
    "translated_questions=[]\n",
    "translated_answers=[]\n",
    "\n",
    "for i in range(min(len(dataset), 100)):\n",
    "    try:\n",
    "        question = dataset[i][\"question\"]\n",
    "        answer = dataset[i][\"long_answer\"]\n",
    "        translated_question = ts.translate_text(question, from_language='en', to_language='vi')\n",
    "        translated_answer = ts.translate_text(answer, from_language='en', to_language='vi')\n",
    "        print('successsss 🎊')\n",
    "        translated_questions.append(translated_question)\n",
    "        translated_answers.append(translated_answer)\n",
    "    except:\n",
    "        translated_questions.append(\"Error\")\n",
    "        translated_answers.append(\"Error\")\n",
    "dataset_1=dataset.select(range(min(len(dataset), 100)))\n",
    "\n",
    "dataset_1 = dataset_1.add_column(\"translated_question\", translated_questions)\n",
    "dataset_1 = dataset_1.add_column(\"translated_answers\", translated_answers)\n",
    "\n",
    "df = pd.DataFrame(dataset_1)\n",
    "df.to_csv(\"translated_pubmedqa_1.csv\", index=False)\n"
   ]
  }
 ],
 "metadata": {
  "kernelspec": {
   "display_name": "venv",
   "language": "python",
   "name": "python3"
  },
  "language_info": {
   "codemirror_mode": {
    "name": "ipython",
    "version": 3
   },
   "file_extension": ".py",
   "mimetype": "text/x-python",
   "name": "python",
   "nbconvert_exporter": "python",
   "pygments_lexer": "ipython3",
   "version": "3.10.10"
  },
  "orig_nbformat": 4
 },
 "nbformat": 4,
 "nbformat_minor": 2
}
