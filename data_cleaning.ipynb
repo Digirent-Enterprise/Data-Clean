{
 "cells": [
  {
   "cell_type": "code",
   "execution_count": 1,
   "id": "147c01c9-225b-4d92-ac94-72748c0dc84b",
   "metadata": {},
   "outputs": [
    {
     "data": {
      "text/html": [
       "<div>\n",
       "<style scoped>\n",
       "    .dataframe tbody tr th:only-of-type {\n",
       "        vertical-align: middle;\n",
       "    }\n",
       "\n",
       "    .dataframe tbody tr th {\n",
       "        vertical-align: top;\n",
       "    }\n",
       "\n",
       "    .dataframe thead th {\n",
       "        text-align: right;\n",
       "    }\n",
       "</style>\n",
       "<table border=\"1\" class=\"dataframe\">\n",
       "  <thead>\n",
       "    <tr style=\"text-align: right;\">\n",
       "      <th></th>\n",
       "      <th>question</th>\n",
       "      <th>answer</th>\n",
       "      <th>url</th>\n",
       "      <th>doctor</th>\n",
       "      <th>post_date</th>\n",
       "    </tr>\n",
       "  </thead>\n",
       "  <tbody>\n",
       "    <tr>\n",
       "      <th>0</th>\n",
       "      <td>Chào bác sĩ, Lúc trước cháu bị mụn do dùng các...</td>\n",
       "      <td>Chào bạn, Với câu hỏi “Đỏ da kèm nổi mạch máu ...</td>\n",
       "      <td>https://www.vinmec.com/vi/tin-tuc/hoi-dap-bac-...</td>\n",
       "      <td>NaN</td>\n",
       "      <td>NaN</td>\n",
       "    </tr>\n",
       "    <tr>\n",
       "      <th>1</th>\n",
       "      <td>Chào bác sĩ, Mẹ em 42 tuổi gần đây hay mệt mỏi...</td>\n",
       "      <td>Chào bạn, Với câu hỏi “Chụp X quang phổi thấy ...</td>\n",
       "      <td>https://www.vinmec.com/vi/tin-tuc/hoi-dap-bac-...</td>\n",
       "      <td>NaN</td>\n",
       "      <td>NaN</td>\n",
       "    </tr>\n",
       "    <tr>\n",
       "      <th>2</th>\n",
       "      <td>Chào bác sĩ, Em thấy mặt dưới, phía cuống lưỡi...</td>\n",
       "      <td>Chào bạn, Với câu hỏi “Cuống lưỡi nổi mụn nhỏ ...</td>\n",
       "      <td>https://www.vinmec.com/vi/tin-tuc/hoi-dap-bac-...</td>\n",
       "      <td>NaN</td>\n",
       "      <td>NaN</td>\n",
       "    </tr>\n",
       "    <tr>\n",
       "      <th>3</th>\n",
       "      <td>Chào bác sĩ, Em đi xét nghiệm chỉ số Triglycer...</td>\n",
       "      <td>9 mmol/L có nguy hiểm không?”, bác sĩ xin giải...</td>\n",
       "      <td>https://www.vinmec.com/vi/tin-tuc/hoi-dap-bac-...</td>\n",
       "      <td>NaN</td>\n",
       "      <td>NaN</td>\n",
       "    </tr>\n",
       "    <tr>\n",
       "      <th>4</th>\n",
       "      <td>Chào bác sĩ, tôi đi khám tổng quát, kết quả si...</td>\n",
       "      <td>Xin chào bạn! Theo kết quả siêu âm thì bạn có ...</td>\n",
       "      <td>https://www.vinmec.com/vi/tin-tuc/hoi-dap-bac-...</td>\n",
       "      <td>NaN</td>\n",
       "      <td>NaN</td>\n",
       "    </tr>\n",
       "    <tr>\n",
       "      <th>...</th>\n",
       "      <td>...</td>\n",
       "      <td>...</td>\n",
       "      <td>...</td>\n",
       "      <td>...</td>\n",
       "      <td>...</td>\n",
       "    </tr>\n",
       "    <tr>\n",
       "      <th>5465</th>\n",
       "      <td>Salmonella là độc tố gây bệnh đường tiêu hóa, ...</td>\n",
       "      <td>Bộ Công thương vừa đề nghị thu hồi một số sản ...</td>\n",
       "      <td>https://vnexpress.net/vi-khuan-salmonella-nguy...</td>\n",
       "      <td>Thùy An</td>\n",
       "      <td>Thứ sáu, 15/4/2022, 14:39 (GMT+7)</td>\n",
       "    </tr>\n",
       "    <tr>\n",
       "      <th>5466</th>\n",
       "      <td>Trẻ có thể uống nước dừa để tăng cường điện gi...</td>\n",
       "      <td>8,2 triệu trẻ em 5-11 tuổi trên cả nước chuẩn ...</td>\n",
       "      <td>https://vnexpress.net/10-dieu-can-biet-ve-tiem...</td>\n",
       "      <td>Bác sĩ CKII Ngô Thị Hiếu MinhTrưởng phòng Kế h...</td>\n",
       "      <td>Thứ sáu, 15/4/2022, 10:54 (GMT+7)</td>\n",
       "    </tr>\n",
       "    <tr>\n",
       "      <th>5467</th>\n",
       "      <td>Người nhà nên theo dõi sát, không cho trẻ vận ...</td>\n",
       "      <td>\"Nên hoãn các bài tập thể lực như chạy, đá cầu...</td>\n",
       "      <td>https://vnexpress.net/khong-cho-tre-van-dong-m...</td>\n",
       "      <td>Chi Lê</td>\n",
       "      <td>Thứ năm, 14/4/2022, 05:00 (GMT+7)</td>\n",
       "    </tr>\n",
       "    <tr>\n",
       "      <th>5468</th>\n",
       "      <td>Chỉ số tia cực tím (UV) cả nước, trừ Hà Nội, đ...</td>\n",
       "      <td>Thông tin được ông Hoàng Gia Nam, Dự báo viên ...</td>\n",
       "      <td>https://vnexpress.net/tia-cuc-tim-ca-nuoc-o-mu...</td>\n",
       "      <td>Da bị cháy nắng, bỏng nắng, đắp vải lanh lạnh ...</td>\n",
       "      <td>Thứ tư, 13/4/2022, 15:22 (GMT+7)</td>\n",
       "    </tr>\n",
       "    <tr>\n",
       "      <th>5469</th>\n",
       "      <td>TP HCMBiểu hiện căng thẳng, thay đổi nhận thức...</td>\n",
       "      <td>Các triệu chứng \"sương mù não\" được Đông y gọi...</td>\n",
       "      <td>https://vnexpress.net/chua-suong-mu-nao-hau-co...</td>\n",
       "      <td>Lê Cầm</td>\n",
       "      <td>Thứ ba, 12/4/2022, 00:03 (GMT+7)</td>\n",
       "    </tr>\n",
       "  </tbody>\n",
       "</table>\n",
       "<p>5470 rows × 5 columns</p>\n",
       "</div>"
      ],
      "text/plain": [
       "                                               question  \\\n",
       "0     Chào bác sĩ, Lúc trước cháu bị mụn do dùng các...   \n",
       "1     Chào bác sĩ, Mẹ em 42 tuổi gần đây hay mệt mỏi...   \n",
       "2     Chào bác sĩ, Em thấy mặt dưới, phía cuống lưỡi...   \n",
       "3     Chào bác sĩ, Em đi xét nghiệm chỉ số Triglycer...   \n",
       "4     Chào bác sĩ, tôi đi khám tổng quát, kết quả si...   \n",
       "...                                                 ...   \n",
       "5465  Salmonella là độc tố gây bệnh đường tiêu hóa, ...   \n",
       "5466  Trẻ có thể uống nước dừa để tăng cường điện gi...   \n",
       "5467  Người nhà nên theo dõi sát, không cho trẻ vận ...   \n",
       "5468  Chỉ số tia cực tím (UV) cả nước, trừ Hà Nội, đ...   \n",
       "5469  TP HCMBiểu hiện căng thẳng, thay đổi nhận thức...   \n",
       "\n",
       "                                                 answer  \\\n",
       "0     Chào bạn, Với câu hỏi “Đỏ da kèm nổi mạch máu ...   \n",
       "1     Chào bạn, Với câu hỏi “Chụp X quang phổi thấy ...   \n",
       "2     Chào bạn, Với câu hỏi “Cuống lưỡi nổi mụn nhỏ ...   \n",
       "3     9 mmol/L có nguy hiểm không?”, bác sĩ xin giải...   \n",
       "4     Xin chào bạn! Theo kết quả siêu âm thì bạn có ...   \n",
       "...                                                 ...   \n",
       "5465  Bộ Công thương vừa đề nghị thu hồi một số sản ...   \n",
       "5466  8,2 triệu trẻ em 5-11 tuổi trên cả nước chuẩn ...   \n",
       "5467  \"Nên hoãn các bài tập thể lực như chạy, đá cầu...   \n",
       "5468  Thông tin được ông Hoàng Gia Nam, Dự báo viên ...   \n",
       "5469  Các triệu chứng \"sương mù não\" được Đông y gọi...   \n",
       "\n",
       "                                                    url  \\\n",
       "0     https://www.vinmec.com/vi/tin-tuc/hoi-dap-bac-...   \n",
       "1     https://www.vinmec.com/vi/tin-tuc/hoi-dap-bac-...   \n",
       "2     https://www.vinmec.com/vi/tin-tuc/hoi-dap-bac-...   \n",
       "3     https://www.vinmec.com/vi/tin-tuc/hoi-dap-bac-...   \n",
       "4     https://www.vinmec.com/vi/tin-tuc/hoi-dap-bac-...   \n",
       "...                                                 ...   \n",
       "5465  https://vnexpress.net/vi-khuan-salmonella-nguy...   \n",
       "5466  https://vnexpress.net/10-dieu-can-biet-ve-tiem...   \n",
       "5467  https://vnexpress.net/khong-cho-tre-van-dong-m...   \n",
       "5468  https://vnexpress.net/tia-cuc-tim-ca-nuoc-o-mu...   \n",
       "5469  https://vnexpress.net/chua-suong-mu-nao-hau-co...   \n",
       "\n",
       "                                                 doctor  \\\n",
       "0                                                   NaN   \n",
       "1                                                   NaN   \n",
       "2                                                   NaN   \n",
       "3                                                   NaN   \n",
       "4                                                   NaN   \n",
       "...                                                 ...   \n",
       "5465                                            Thùy An   \n",
       "5466  Bác sĩ CKII Ngô Thị Hiếu MinhTrưởng phòng Kế h...   \n",
       "5467                                             Chi Lê   \n",
       "5468  Da bị cháy nắng, bỏng nắng, đắp vải lanh lạnh ...   \n",
       "5469                                             Lê Cầm   \n",
       "\n",
       "                              post_date  \n",
       "0                                   NaN  \n",
       "1                                   NaN  \n",
       "2                                   NaN  \n",
       "3                                   NaN  \n",
       "4                                   NaN  \n",
       "...                                 ...  \n",
       "5465  Thứ sáu, 15/4/2022, 14:39 (GMT+7)  \n",
       "5466  Thứ sáu, 15/4/2022, 10:54 (GMT+7)  \n",
       "5467  Thứ năm, 14/4/2022, 05:00 (GMT+7)  \n",
       "5468   Thứ tư, 13/4/2022, 15:22 (GMT+7)  \n",
       "5469   Thứ ba, 12/4/2022, 00:03 (GMT+7)  \n",
       "\n",
       "[5470 rows x 5 columns]"
      ]
     },
     "execution_count": 1,
     "metadata": {},
     "output_type": "execute_result"
    }
   ],
   "source": [
    "import pandas as pd\n",
    "df=pd.read_csv('./clean_25_05_2023.csv')\n",
    "df"
   ]
  },
  {
   "cell_type": "code",
   "execution_count": 2,
   "id": "58e73995-cfe2-46be-a911-f5b990280819",
   "metadata": {},
   "outputs": [],
   "source": [
    "df = df[['question','answer']]"
   ]
  },
  {
   "cell_type": "code",
   "execution_count": 3,
   "id": "6e29dea8-81d1-49f7-b01d-8baab208ef67",
   "metadata": {},
   "outputs": [
    {
     "data": {
      "text/html": [
       "<div>\n",
       "<style scoped>\n",
       "    .dataframe tbody tr th:only-of-type {\n",
       "        vertical-align: middle;\n",
       "    }\n",
       "\n",
       "    .dataframe tbody tr th {\n",
       "        vertical-align: top;\n",
       "    }\n",
       "\n",
       "    .dataframe thead th {\n",
       "        text-align: right;\n",
       "    }\n",
       "</style>\n",
       "<table border=\"1\" class=\"dataframe\">\n",
       "  <thead>\n",
       "    <tr style=\"text-align: right;\">\n",
       "      <th></th>\n",
       "      <th>question</th>\n",
       "      <th>answer</th>\n",
       "    </tr>\n",
       "  </thead>\n",
       "  <tbody>\n",
       "    <tr>\n",
       "      <th>0</th>\n",
       "      <td>Chào bác sĩ, Lúc trước cháu bị mụn do dùng các...</td>\n",
       "      <td>Chào bạn, Với câu hỏi “Đỏ da kèm nổi mạch máu ...</td>\n",
       "    </tr>\n",
       "    <tr>\n",
       "      <th>1</th>\n",
       "      <td>Chào bác sĩ, Mẹ em 42 tuổi gần đây hay mệt mỏi...</td>\n",
       "      <td>Chào bạn, Với câu hỏi “Chụp X quang phổi thấy ...</td>\n",
       "    </tr>\n",
       "    <tr>\n",
       "      <th>2</th>\n",
       "      <td>Chào bác sĩ, Em thấy mặt dưới, phía cuống lưỡi...</td>\n",
       "      <td>Chào bạn, Với câu hỏi “Cuống lưỡi nổi mụn nhỏ ...</td>\n",
       "    </tr>\n",
       "    <tr>\n",
       "      <th>3</th>\n",
       "      <td>Chào bác sĩ, Em đi xét nghiệm chỉ số Triglycer...</td>\n",
       "      <td>9 mmol/L có nguy hiểm không?”, bác sĩ xin giải...</td>\n",
       "    </tr>\n",
       "    <tr>\n",
       "      <th>4</th>\n",
       "      <td>Chào bác sĩ, tôi đi khám tổng quát, kết quả si...</td>\n",
       "      <td>Xin chào bạn! Theo kết quả siêu âm thì bạn có ...</td>\n",
       "    </tr>\n",
       "  </tbody>\n",
       "</table>\n",
       "</div>"
      ],
      "text/plain": [
       "                                            question  \\\n",
       "0  Chào bác sĩ, Lúc trước cháu bị mụn do dùng các...   \n",
       "1  Chào bác sĩ, Mẹ em 42 tuổi gần đây hay mệt mỏi...   \n",
       "2  Chào bác sĩ, Em thấy mặt dưới, phía cuống lưỡi...   \n",
       "3  Chào bác sĩ, Em đi xét nghiệm chỉ số Triglycer...   \n",
       "4  Chào bác sĩ, tôi đi khám tổng quát, kết quả si...   \n",
       "\n",
       "                                              answer  \n",
       "0  Chào bạn, Với câu hỏi “Đỏ da kèm nổi mạch máu ...  \n",
       "1  Chào bạn, Với câu hỏi “Chụp X quang phổi thấy ...  \n",
       "2  Chào bạn, Với câu hỏi “Cuống lưỡi nổi mụn nhỏ ...  \n",
       "3  9 mmol/L có nguy hiểm không?”, bác sĩ xin giải...  \n",
       "4  Xin chào bạn! Theo kết quả siêu âm thì bạn có ...  "
      ]
     },
     "execution_count": 3,
     "metadata": {},
     "output_type": "execute_result"
    }
   ],
   "source": [
    "df.head()"
   ]
  },
  {
   "cell_type": "code",
   "execution_count": 81,
   "id": "645c5b93-8a32-4e2d-b970-f47d05b6c03f",
   "metadata": {},
   "outputs": [],
   "source": [
    "import os\n",
    "from dotenv import load_dotenv\n",
    "import openai\n",
    "load_dotenv()\n",
    "\n",
    "openai.api_key = os.getenv(\"OPENAI_API_KEY\")"
   ]
  },
  {
   "cell_type": "code",
   "execution_count": 5,
   "id": "02461fea-d569-48b2-9bca-0a6770155e1c",
   "metadata": {},
   "outputs": [
    {
     "name": "stdout",
     "output_type": "stream",
     "text": [
      "CPU times: user 11.3 ms, sys: 6.99 ms, total: 18.3 ms\n",
      "Wall time: 18.3 s\n"
     ]
    },
    {
     "data": {
      "text/plain": [
       "'Chào bác sĩ, em bị giãn tĩnh mạch năm 18 tuổi, lúc đó có cơn đau âm ỉ nên em đi siêu âm thì giãn độ 1. Bây giờ em 21 tuổi rồi, hôm trước em có đi làm các xét nghiệm định kỳ thì đã giãn lên đến độ 3 nhưng bản thân em không cảm giác đau hay bất thường gì về bìu. Em thử sờ thì thấy tinh hoàn trái chỉ bằng 2/3 phải thôi, em cũng xét nghiệm tinh dịch đồ thấy cả số lượng và chất lượng đều giảm đi, bác sĩ có nói với em bệnh này rất phổ biến rồi kê đơn thực phẩm bổ sung tăng cường tinh trùng và thuốc trợ mạch ạ, bác sĩ cũng có nói nếu sau này lấy vợ không có con thì sẽ tiến hành phẫu thuật. Vậy bác sĩ cho em hỏi, sau phẫu thuật giãn tĩnh mạch tinh liệu kích thước và chức năng tinh hoàn có giống như trước không ạ?'"
      ]
     },
     "execution_count": 5,
     "metadata": {},
     "output_type": "execute_result"
    }
   ],
   "source": [
    "%%time \n",
    "def clean_name(question):\n",
    "  messages = [\n",
    "  {\"role\": \"system\", \"content\": \"\"\"\n",
    "  You are NLP Vietnamese expert.Remove the name and birthday, telephone, email, address  (example: Name (YOB)).\n",
    "  Return the original input text after it has been cleaned.\n",
    "  Don't censor the age. Don't altered or report any status about the text.input \n",
    "  \"\"\"}, \n",
    "  {\"role\": \"user\", \"content\": f\"text: {question}\"}]\n",
    "  try :\n",
    "      chat_completion = openai.ChatCompletion.create(model=\"gpt-3.5-turbo\", \n",
    "                                                 messages=messages)\n",
    "      return chat_completion.choices[0].message.content\n",
    "  except : \n",
    "    return 'Error'\n",
    "  # print(f'{chat_completion[\"usage\"][\"prompt_tokens\"]} prompt tokens used.')\n",
    "  # return chat(messages).content\n",
    "# df[\"cleaned_question\"] = df[\"question\"].apply(lambda x: clean_name(x))\n",
    "clean_name(\"Chào bác sĩ, em bị giãn tĩnh mạch năm 18 tuổi, lúc đó có cơn đau âm ỉ nên em đi siêu âm thì giãn độ 1. Bây giờ em 21 tuổi rồi, hôm trước em có đi làm các xét nghiệm định kỳ thì đã giãn lên đến độ 3 nhưng bản thân em không cảm giác đau hay bất thường gì về bìu. Em thử sờ thì thấy tinh hoàn trái chỉ bằng 2/3 phải thôi, em cũng xét nghiệm tinh dịch đồ thấy cả số lượng và chất lượng đều giảm đi, bác sĩ có nói với em bệnh này rất phổ biến rồi kê đơn thực phẩm bổ sung tăng cường tinh trùng và thuốc trợ mạch ạ, bác sĩ cũng có nói nếu sau này lấy vợ không có con thì sẽ tiến hành phẫu thuật. Vậy bác sĩ cho em hỏi, sau phẫu thuật giãn tĩnh mạch tinh liệu kích thước và chức năng tinh hoàn có giống như trước không ạ?\")\n"
   ]
  },
  {
   "cell_type": "code",
   "execution_count": 6,
   "id": "9a994ad3-e441-4234-8a4d-c97f2e35d134",
   "metadata": {},
   "outputs": [],
   "source": [
    "from concurrent.futures import ThreadPoolExecutor\n",
    "from tqdm.auto import tqdm\n",
    "import numpy as np\n",
    "tqdm.pandas()\n",
    "\n",
    "def parallel_applymap(df, func, worker_count):\n",
    "    def _apply(shard):\n",
    "        return shard.progress_applymap(func)\n",
    "\n",
    "    shards = np.array_split(df, worker_count)\n",
    "    with ThreadPoolExecutor(max_workers=worker_count) as e:\n",
    "        futures = e.map(_apply, shards)\n",
    "        \n",
    "    return pd.concat(list(futures))"
   ]
  },
  {
   "cell_type": "code",
   "execution_count": 7,
   "id": "ef5b9a36-900b-4478-8612-df0d26a9e0a2",
   "metadata": {},
   "outputs": [],
   "source": [
    "df_1 = df.iloc[:1000,:]\n",
    "df_2 = df.iloc[1000:2000,:]\n",
    "df_3 = df.iloc[2000:3000,:]\n",
    "df_4 = df.iloc[3000:4000,:]\n",
    "df_5 = df.iloc[4000:5000,:]\n"
   ]
  },
  {
   "cell_type": "code",
   "execution_count": 8,
   "id": "d6dbc49f-0f95-460d-9fc8-d1e641191002",
   "metadata": {},
   "outputs": [],
   "source": [
    "# os.getenv('OPENAI_API_KEY')\n",
    "# cleaned_df_5 = parallel_applymap(df_5,clean_name,4)"
   ]
  },
  {
   "cell_type": "code",
   "execution_count": 9,
   "id": "ab22080b-ee04-4bd3-89d0-079ee51b9e95",
   "metadata": {},
   "outputs": [],
   "source": [
    "# cleaned_df_5.to_csv('cleaned_df_5.csv',encoding = 'utf-8-sig',index = False)"
   ]
  },
  {
   "cell_type": "code",
   "execution_count": 64,
   "id": "374804f0-6f0d-477e-99f7-7c9bc5004dbd",
   "metadata": {},
   "outputs": [],
   "source": [
    "#Stitch all the dataframes together\n",
    "# Read all of the data frame and drop the first rows \n",
    "cleaned_df_1 = pd.read_csv('./cleaned_df_1.csv')\n",
    "cleaned_df_2 = pd.read_csv('./cleaned_df_2.csv')\n",
    "cleaned_df_3 = pd.read_csv('./cleaned_df_3.csv')\n",
    "cleaned_df_4 = pd.read_csv('./cleaned_df_4.csv')\n",
    "cleaned_df_5 = pd.read_csv('./cleaned_df_5.csv')\n",
    "cleaned_df_6 = pd.read_csv('./cleaned_df_6.csv')\n",
    "\n",
    "cleaned_df = pd.concat([cleaned_df_1,cleaned_df_2,cleaned_df_3,cleaned_df_4,cleaned_df_5, cleaned_df_6],axis=0)\n",
    "#Dedupe the data frame\n",
    "cleaned_df = cleaned_df.drop_duplicates(subset=['question','answer'],keep='first')"
   ]
  },
  {
   "cell_type": "code",
   "execution_count": 65,
   "id": "05400b8b-4e85-44cd-a86d-3b12fdf9dfad",
   "metadata": {},
   "outputs": [
    {
     "data": {
      "text/plain": [
       "(5469, 2)"
      ]
     },
     "execution_count": 65,
     "metadata": {},
     "output_type": "execute_result"
    }
   ],
   "source": [
    "cleaned_df.shape"
   ]
  },
  {
   "cell_type": "code",
   "execution_count": 66,
   "id": "6e1b187d-56e0-41ca-8319-89dfbeb45f1f",
   "metadata": {},
   "outputs": [
    {
     "data": {
      "text/html": [
       "<div>\n",
       "<style scoped>\n",
       "    .dataframe tbody tr th:only-of-type {\n",
       "        vertical-align: middle;\n",
       "    }\n",
       "\n",
       "    .dataframe tbody tr th {\n",
       "        vertical-align: top;\n",
       "    }\n",
       "\n",
       "    .dataframe thead th {\n",
       "        text-align: right;\n",
       "    }\n",
       "</style>\n",
       "<table border=\"1\" class=\"dataframe\">\n",
       "  <thead>\n",
       "    <tr style=\"text-align: right;\">\n",
       "      <th></th>\n",
       "      <th>question</th>\n",
       "      <th>answer</th>\n",
       "    </tr>\n",
       "  </thead>\n",
       "  <tbody>\n",
       "    <tr>\n",
       "      <th>0</th>\n",
       "      <td>Chào bác sĩ, Lúc trước cháu bị mụn do dùng các...</td>\n",
       "      <td>Chào bạn, Với câu hỏi “Đỏ da kèm nổi mạch máu ...</td>\n",
       "    </tr>\n",
       "    <tr>\n",
       "      <th>1</th>\n",
       "      <td>Chào bác sĩ, Mẹ em 42 tuổi gần đây hay mệt mỏi...</td>\n",
       "      <td>Chào bạn, Với câu hỏi “Chụp X quang phổi thấy ...</td>\n",
       "    </tr>\n",
       "    <tr>\n",
       "      <th>2</th>\n",
       "      <td>Error</td>\n",
       "      <td>Cleaned text: Chào bạn, Với câu hỏi “Cuống lưỡ...</td>\n",
       "    </tr>\n",
       "    <tr>\n",
       "      <th>3</th>\n",
       "      <td>Chào bác sĩ, Em đi xét nghiệm chỉ số Triglycer...</td>\n",
       "      <td>9 mmol/L có nguy hiểm không?”, bác sĩ xin giải...</td>\n",
       "    </tr>\n",
       "    <tr>\n",
       "      <th>4</th>\n",
       "      <td>Chào bác sĩ, tôi đi khám tổng quát, kết quả si...</td>\n",
       "      <td>Xin chào bạn! Theo kết quả siêu âm thì bạn có ...</td>\n",
       "    </tr>\n",
       "    <tr>\n",
       "      <th>...</th>\n",
       "      <td>...</td>\n",
       "      <td>...</td>\n",
       "    </tr>\n",
       "    <tr>\n",
       "      <th>465</th>\n",
       "      <td>Salmonella là độc tố gây bệnh đường tiêu hóa, ...</td>\n",
       "      <td>Bộ Công thương vừa đề nghị thu hồi một số sản ...</td>\n",
       "    </tr>\n",
       "    <tr>\n",
       "      <th>466</th>\n",
       "      <td>Trẻ có thể uống nước dừa để tăng cường điện gi...</td>\n",
       "      <td>8,2 triệu trẻ em 5-11 tuổi trên cả nước chuẩn ...</td>\n",
       "    </tr>\n",
       "    <tr>\n",
       "      <th>467</th>\n",
       "      <td>Người nhà nên theo dõi sát, không cho trẻ vận ...</td>\n",
       "      <td>Nên hoãn các bài tập thể lực như chạy, đá cầu....</td>\n",
       "    </tr>\n",
       "    <tr>\n",
       "      <th>468</th>\n",
       "      <td>Chỉ số tia cực tím (UV) cả nước, trừ Hà Nội, đ...</td>\n",
       "      <td>Thông tin được ông  , Dự báo viên Trung tâm Dự...</td>\n",
       "    </tr>\n",
       "    <tr>\n",
       "      <th>469</th>\n",
       "      <td>TP HCM Biểu hiện căng thẳng, thay đổi nhận thứ...</td>\n",
       "      <td>Các triệu chứng \"sương mù não\" được Đông y gọi...</td>\n",
       "    </tr>\n",
       "  </tbody>\n",
       "</table>\n",
       "<p>5469 rows × 2 columns</p>\n",
       "</div>"
      ],
      "text/plain": [
       "                                              question  \\\n",
       "0    Chào bác sĩ, Lúc trước cháu bị mụn do dùng các...   \n",
       "1    Chào bác sĩ, Mẹ em 42 tuổi gần đây hay mệt mỏi...   \n",
       "2                                                Error   \n",
       "3    Chào bác sĩ, Em đi xét nghiệm chỉ số Triglycer...   \n",
       "4    Chào bác sĩ, tôi đi khám tổng quát, kết quả si...   \n",
       "..                                                 ...   \n",
       "465  Salmonella là độc tố gây bệnh đường tiêu hóa, ...   \n",
       "466  Trẻ có thể uống nước dừa để tăng cường điện gi...   \n",
       "467  Người nhà nên theo dõi sát, không cho trẻ vận ...   \n",
       "468  Chỉ số tia cực tím (UV) cả nước, trừ Hà Nội, đ...   \n",
       "469  TP HCM Biểu hiện căng thẳng, thay đổi nhận thứ...   \n",
       "\n",
       "                                                answer  \n",
       "0    Chào bạn, Với câu hỏi “Đỏ da kèm nổi mạch máu ...  \n",
       "1    Chào bạn, Với câu hỏi “Chụp X quang phổi thấy ...  \n",
       "2    Cleaned text: Chào bạn, Với câu hỏi “Cuống lưỡ...  \n",
       "3    9 mmol/L có nguy hiểm không?”, bác sĩ xin giải...  \n",
       "4    Xin chào bạn! Theo kết quả siêu âm thì bạn có ...  \n",
       "..                                                 ...  \n",
       "465  Bộ Công thương vừa đề nghị thu hồi một số sản ...  \n",
       "466  8,2 triệu trẻ em 5-11 tuổi trên cả nước chuẩn ...  \n",
       "467  Nên hoãn các bài tập thể lực như chạy, đá cầu....  \n",
       "468  Thông tin được ông  , Dự báo viên Trung tâm Dự...  \n",
       "469  Các triệu chứng \"sương mù não\" được Đông y gọi...  \n",
       "\n",
       "[5469 rows x 2 columns]"
      ]
     },
     "execution_count": 66,
     "metadata": {},
     "output_type": "execute_result"
    }
   ],
   "source": [
    "cleaned_df"
   ]
  },
  {
   "cell_type": "code",
   "execution_count": 67,
   "id": "46a753f7-9197-489b-a085-6b2b37b6bd14",
   "metadata": {},
   "outputs": [
    {
     "data": {
      "text/plain": [
       "(158, 2)"
      ]
     },
     "execution_count": 67,
     "metadata": {},
     "output_type": "execute_result"
    }
   ],
   "source": [
    "# Count number of row contains \"Error\"\n",
    "cleaned_df[cleaned_df['question'].str.contains(\"Error\")].shape"
   ]
  },
  {
   "cell_type": "code",
   "execution_count": 68,
   "id": "420be7fc-aedb-487b-bcd4-a19bc8fc16b7",
   "metadata": {},
   "outputs": [
    {
     "data": {
      "text/plain": [
       "(45, 2)"
      ]
     },
     "execution_count": 68,
     "metadata": {},
     "output_type": "execute_result"
    }
   ],
   "source": [
    "cleaned_df[cleaned_df['answer'].str.contains(\"Error\")].shape"
   ]
  },
  {
   "cell_type": "code",
   "execution_count": 69,
   "id": "ce82c88b-07d4-4022-9970-516a35b4613f",
   "metadata": {},
   "outputs": [],
   "source": [
    "# Drop the row that contains \"Error\"\n",
    "cleaned_df = cleaned_df[~cleaned_df['question'].str.contains(\"Error\")]\n",
    "cleaned_df = cleaned_df[~cleaned_df['answer'].str.contains(\"Error\")]"
   ]
  },
  {
   "cell_type": "code",
   "execution_count": 70,
   "id": "a99d79b0-9741-480a-80dc-6ef60f0f44ed",
   "metadata": {},
   "outputs": [
    {
     "data": {
      "text/plain": [
       "(5266, 2)"
      ]
     },
     "execution_count": 70,
     "metadata": {},
     "output_type": "execute_result"
    }
   ],
   "source": [
    "cleaned_df.shape"
   ]
  },
  {
   "cell_type": "code",
   "execution_count": 71,
   "id": "f01f4132-4cbc-4117-824f-00001f7a9a38",
   "metadata": {},
   "outputs": [
    {
     "data": {
      "text/plain": [
       "(0, 2)"
      ]
     },
     "execution_count": 71,
     "metadata": {},
     "output_type": "execute_result"
    }
   ],
   "source": [
    "cleaned_df[cleaned_df['question'].str.contains(\"Error\")].shape"
   ]
  },
  {
   "cell_type": "code",
   "execution_count": 72,
   "id": "6f51c058-7f46-40f6-86f0-93539aa3598c",
   "metadata": {},
   "outputs": [
    {
     "data": {
      "text/plain": [
       "(0, 2)"
      ]
     },
     "execution_count": 72,
     "metadata": {},
     "output_type": "execute_result"
    }
   ],
   "source": [
    "# Count number of row contains \"Error\"\n",
    "cleaned_df[cleaned_df['answer'].str.contains(\"Error\")].shape"
   ]
  },
  {
   "attachments": {},
   "cell_type": "markdown",
   "id": "6dff4d57",
   "metadata": {},
   "source": [
    "## Remove error prompt the chatgpt \n"
   ]
  },
  {
   "cell_type": "code",
   "execution_count": 73,
   "id": "d5f5c0cc-c388-4f1a-be18-aee78171d864",
   "metadata": {},
   "outputs": [],
   "source": [
    "error = ['(Age and personal information have been removed)', '(cleaned text:)',\n",
    "             '(cleaned version)', '(cleaned)',\n",
    "             '(Bác sĩ không được cung cấp thông tin về tên, sinh nhật, số điện thoại, email hoặc địa chỉ)',\n",
    "             '(Sorry, I cannot remove the age as it was not provided in the text)']\n",
    "def remove_error_words(df, error_list = error):\n",
    "    cleaned_df = df.applymap(lambda x: ' '.join([word for word in str(x).split() if word not in error_list]))\n",
    "    return cleaned_df"
   ]
  },
  {
   "cell_type": "code",
   "execution_count": 74,
   "id": "97379356-f972-4ea0-a93b-3c8c20c241c5",
   "metadata": {},
   "outputs": [],
   "source": [
    "cleaned_df = remove_error_words(cleaned_df)"
   ]
  },
  {
   "cell_type": "code",
   "execution_count": 75,
   "id": "e43ddd76-73ad-4884-9386-c9fa62026dcf",
   "metadata": {},
   "outputs": [],
   "source": [
    "import pandas as pd\n",
    "keywords = ['cleaned version:', 'cleaned text:','text:']\n",
    "def extract_text_after_keywords(df, keywords_list = keywords):\n",
    "    cleaned_df = df.applymap(lambda x: ' '.join([word for word in str(x).split() if not any(keyword in word.lower() for keyword in keywords_list)]))\n",
    "    return cleaned_df\n"
   ]
  },
  {
   "cell_type": "code",
   "execution_count": 76,
   "id": "0affb930-90c3-4f28-af89-4baf11788ff0",
   "metadata": {},
   "outputs": [],
   "source": [
    "cleaned_df = extract_text_after_keywords(cleaned_df)"
   ]
  },
  {
   "cell_type": "code",
   "execution_count": 77,
   "id": "12bb28ad",
   "metadata": {},
   "outputs": [],
   "source": [
    "# Remove trailling spaces\n",
    "cleaned_df = cleaned_df.applymap(lambda x: x.strip())"
   ]
  },
  {
   "cell_type": "code",
   "execution_count": 78,
   "id": "dafc2ab3",
   "metadata": {},
   "outputs": [],
   "source": [
    "cleaned_df.to_csv('cleaned_df.csv',encoding = 'utf-8-sig',index = False)"
   ]
  },
  {
   "cell_type": "code",
   "execution_count": 93,
   "id": "a711d5f0",
   "metadata": {},
   "outputs": [
    {
     "name": "stdout",
     "output_type": "stream",
     "text": [
      "[main 6ee5a32] Update notebook\n",
      " 1 file changed, 6 insertions(+), 1014 deletions(-)\n"
     ]
    },
    {
     "name": "stderr",
     "output_type": "stream",
     "text": [
      "To https://github.com/Digirent-Enterprise/Data-Clean.git\n",
      "   9b356c2..6ee5a32  main -> main\n"
     ]
    }
   ],
   "source": [
    "%%bash\n",
    "# rm -rf .DS_Store\n",
    "# git rm -rf --cached .\n",
    "git add .\n",
    "git commit -m \"Update notebook\"\n",
    "git push origin --all --force"
   ]
  },
  {
   "cell_type": "code",
   "execution_count": null,
   "id": "eb8721f1",
   "metadata": {},
   "outputs": [],
   "source": []
  }
 ],
 "metadata": {
  "kernelspec": {
   "display_name": "tensorflow",
   "language": "python",
   "name": "python3"
  },
  "language_info": {
   "codemirror_mode": {
    "name": "ipython",
    "version": 3
   },
   "file_extension": ".py",
   "mimetype": "text/x-python",
   "name": "python",
   "nbconvert_exporter": "python",
   "pygments_lexer": "ipython3",
   "version": "3.9.15"
  }
 },
 "nbformat": 4,
 "nbformat_minor": 5
}
